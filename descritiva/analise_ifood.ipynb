{
 "cells": [
  {
   "cell_type": "markdown",
   "id": "7e1eeaeb",
   "metadata": {},
   "source": [
    "\n",
    "\n",
    "## <font color = #99c9bd> **Analise Exploratória - Dados clientes Ifood**"
   ]
  },
  {
   "cell_type": "markdown",
   "id": "21382475",
   "metadata": {},
   "source": [
    "**Temos aqui uma base de dados com informações dos clientes, queremos saber qual o perfil geral e também, de forma mais especifica, qual o perfil que gasta mais e é mais ativo na plataforma. É interessante saber quem é esse cliente que gasta muito e está mais conectado a plataforma, mas também quem gasta pouco e está mais desconectado, vamos ver se os dados que temos disponíveis nos ajuda a traçar esses dois perfis.**"
   ]
  },
  {
   "cell_type": "markdown",
   "id": "5115d503",
   "metadata": {},
   "source": [
    "<font color = #99c9bd> **Características Gerais do Dataset**"
   ]
  },
  {
   "cell_type": "code",
   "execution_count": 125,
   "id": "2f8606b6",
   "metadata": {},
   "outputs": [],
   "source": [
    "# Importando bibliotecas\n",
    "\n",
    "import pandas as pd\n",
    "import seaborn as sn\n",
    "import numpy as np\n",
    "import matplotlib.pyplot as plt\n",
    "from matplotlib.ticker import FuncFormatter"
   ]
  },
  {
   "cell_type": "code",
   "execution_count": 126,
   "id": "534e66c5",
   "metadata": {},
   "outputs": [],
   "source": [
    "# baixando os dados\n",
    "\n",
    "dados = pd.read_csv(\"/Users/thaisfernandespereira/Documents/estat_analises/descritiva/mkt_data.csv\")"
   ]
  },
  {
   "cell_type": "code",
   "execution_count": 127,
   "id": "ca699d67",
   "metadata": {},
   "outputs": [
    {
     "data": {
      "text/html": [
       "<div>\n",
       "<style scoped>\n",
       "    .dataframe tbody tr th:only-of-type {\n",
       "        vertical-align: middle;\n",
       "    }\n",
       "\n",
       "    .dataframe tbody tr th {\n",
       "        vertical-align: top;\n",
       "    }\n",
       "\n",
       "    .dataframe thead th {\n",
       "        text-align: right;\n",
       "    }\n",
       "</style>\n",
       "<table border=\"1\" class=\"dataframe\">\n",
       "  <thead>\n",
       "    <tr style=\"text-align: right;\">\n",
       "      <th></th>\n",
       "      <th>Unnamed: 0</th>\n",
       "      <th>Income</th>\n",
       "      <th>Kidhome</th>\n",
       "      <th>Teenhome</th>\n",
       "      <th>Recency</th>\n",
       "      <th>MntWines</th>\n",
       "      <th>MntFruits</th>\n",
       "      <th>MntMeatProducts</th>\n",
       "      <th>MntFishProducts</th>\n",
       "      <th>MntSweetProducts</th>\n",
       "      <th>...</th>\n",
       "      <th>education_Graduation</th>\n",
       "      <th>education_Master</th>\n",
       "      <th>education_PhD</th>\n",
       "      <th>MntTotal</th>\n",
       "      <th>MntRegularProds</th>\n",
       "      <th>AcceptedCmpOverall</th>\n",
       "      <th>marital_status</th>\n",
       "      <th>education_level</th>\n",
       "      <th>kids</th>\n",
       "      <th>expenses</th>\n",
       "    </tr>\n",
       "  </thead>\n",
       "  <tbody>\n",
       "    <tr>\n",
       "      <th>0</th>\n",
       "      <td>0</td>\n",
       "      <td>58138.0</td>\n",
       "      <td>0</td>\n",
       "      <td>0</td>\n",
       "      <td>58</td>\n",
       "      <td>635</td>\n",
       "      <td>88</td>\n",
       "      <td>546</td>\n",
       "      <td>172</td>\n",
       "      <td>88</td>\n",
       "      <td>...</td>\n",
       "      <td>3.0</td>\n",
       "      <td>NaN</td>\n",
       "      <td>NaN</td>\n",
       "      <td>1529</td>\n",
       "      <td>1441</td>\n",
       "      <td>0</td>\n",
       "      <td>Single</td>\n",
       "      <td>Graduation</td>\n",
       "      <td>0</td>\n",
       "      <td>1529</td>\n",
       "    </tr>\n",
       "    <tr>\n",
       "      <th>1</th>\n",
       "      <td>1</td>\n",
       "      <td>46344.0</td>\n",
       "      <td>1</td>\n",
       "      <td>1</td>\n",
       "      <td>38</td>\n",
       "      <td>11</td>\n",
       "      <td>1</td>\n",
       "      <td>6</td>\n",
       "      <td>2</td>\n",
       "      <td>1</td>\n",
       "      <td>...</td>\n",
       "      <td>3.0</td>\n",
       "      <td>NaN</td>\n",
       "      <td>NaN</td>\n",
       "      <td>21</td>\n",
       "      <td>15</td>\n",
       "      <td>0</td>\n",
       "      <td>Single</td>\n",
       "      <td>Graduation</td>\n",
       "      <td>2</td>\n",
       "      <td>21</td>\n",
       "    </tr>\n",
       "    <tr>\n",
       "      <th>2</th>\n",
       "      <td>2</td>\n",
       "      <td>71613.0</td>\n",
       "      <td>0</td>\n",
       "      <td>0</td>\n",
       "      <td>26</td>\n",
       "      <td>426</td>\n",
       "      <td>49</td>\n",
       "      <td>127</td>\n",
       "      <td>111</td>\n",
       "      <td>21</td>\n",
       "      <td>...</td>\n",
       "      <td>3.0</td>\n",
       "      <td>NaN</td>\n",
       "      <td>NaN</td>\n",
       "      <td>734</td>\n",
       "      <td>692</td>\n",
       "      <td>0</td>\n",
       "      <td>Together</td>\n",
       "      <td>Graduation</td>\n",
       "      <td>0</td>\n",
       "      <td>734</td>\n",
       "    </tr>\n",
       "    <tr>\n",
       "      <th>3</th>\n",
       "      <td>3</td>\n",
       "      <td>26646.0</td>\n",
       "      <td>1</td>\n",
       "      <td>0</td>\n",
       "      <td>26</td>\n",
       "      <td>11</td>\n",
       "      <td>4</td>\n",
       "      <td>20</td>\n",
       "      <td>10</td>\n",
       "      <td>3</td>\n",
       "      <td>...</td>\n",
       "      <td>3.0</td>\n",
       "      <td>NaN</td>\n",
       "      <td>NaN</td>\n",
       "      <td>48</td>\n",
       "      <td>43</td>\n",
       "      <td>0</td>\n",
       "      <td>Together</td>\n",
       "      <td>Graduation</td>\n",
       "      <td>1</td>\n",
       "      <td>48</td>\n",
       "    </tr>\n",
       "    <tr>\n",
       "      <th>4</th>\n",
       "      <td>4</td>\n",
       "      <td>58293.0</td>\n",
       "      <td>1</td>\n",
       "      <td>0</td>\n",
       "      <td>94</td>\n",
       "      <td>173</td>\n",
       "      <td>43</td>\n",
       "      <td>118</td>\n",
       "      <td>46</td>\n",
       "      <td>27</td>\n",
       "      <td>...</td>\n",
       "      <td>NaN</td>\n",
       "      <td>NaN</td>\n",
       "      <td>5.0</td>\n",
       "      <td>407</td>\n",
       "      <td>392</td>\n",
       "      <td>0</td>\n",
       "      <td>Married</td>\n",
       "      <td>PhD</td>\n",
       "      <td>1</td>\n",
       "      <td>407</td>\n",
       "    </tr>\n",
       "  </tbody>\n",
       "</table>\n",
       "<p>5 rows × 44 columns</p>\n",
       "</div>"
      ],
      "text/plain": [
       "   Unnamed: 0   Income  Kidhome  Teenhome  Recency  MntWines  MntFruits  \\\n",
       "0           0  58138.0        0         0       58       635         88   \n",
       "1           1  46344.0        1         1       38        11          1   \n",
       "2           2  71613.0        0         0       26       426         49   \n",
       "3           3  26646.0        1         0       26        11          4   \n",
       "4           4  58293.0        1         0       94       173         43   \n",
       "\n",
       "   MntMeatProducts  MntFishProducts  MntSweetProducts  ...  \\\n",
       "0              546              172                88  ...   \n",
       "1                6                2                 1  ...   \n",
       "2              127              111                21  ...   \n",
       "3               20               10                 3  ...   \n",
       "4              118               46                27  ...   \n",
       "\n",
       "   education_Graduation  education_Master  education_PhD  MntTotal  \\\n",
       "0                   3.0               NaN            NaN      1529   \n",
       "1                   3.0               NaN            NaN        21   \n",
       "2                   3.0               NaN            NaN       734   \n",
       "3                   3.0               NaN            NaN        48   \n",
       "4                   NaN               NaN            5.0       407   \n",
       "\n",
       "   MntRegularProds  AcceptedCmpOverall  marital_status  education_level  kids  \\\n",
       "0             1441                   0          Single       Graduation     0   \n",
       "1               15                   0          Single       Graduation     2   \n",
       "2              692                   0        Together       Graduation     0   \n",
       "3               43                   0        Together       Graduation     1   \n",
       "4              392                   0         Married              PhD     1   \n",
       "\n",
       "   expenses  \n",
       "0      1529  \n",
       "1        21  \n",
       "2       734  \n",
       "3        48  \n",
       "4       407  \n",
       "\n",
       "[5 rows x 44 columns]"
      ]
     },
     "execution_count": 127,
     "metadata": {},
     "output_type": "execute_result"
    }
   ],
   "source": [
    "# dando uma olhada nas colunas e primeiras linhas dos dados\n",
    "\n",
    "dados.head(5)"
   ]
  },
  {
   "cell_type": "code",
   "execution_count": 128,
   "id": "e3cf8cd0",
   "metadata": {},
   "outputs": [
    {
     "name": "stdout",
     "output_type": "stream",
     "text": [
      "<class 'pandas.core.frame.DataFrame'>\n",
      "RangeIndex: 2205 entries, 0 to 2204\n",
      "Data columns (total 44 columns):\n",
      " #   Column                Non-Null Count  Dtype  \n",
      "---  ------                --------------  -----  \n",
      " 0   Unnamed: 0            2205 non-null   int64  \n",
      " 1   Income                2205 non-null   float64\n",
      " 2   Kidhome               2205 non-null   int64  \n",
      " 3   Teenhome              2205 non-null   int64  \n",
      " 4   Recency               2205 non-null   int64  \n",
      " 5   MntWines              2205 non-null   int64  \n",
      " 6   MntFruits             2205 non-null   int64  \n",
      " 7   MntMeatProducts       2205 non-null   int64  \n",
      " 8   MntFishProducts       2205 non-null   int64  \n",
      " 9   MntSweetProducts      2205 non-null   int64  \n",
      " 10  MntGoldProds          2205 non-null   int64  \n",
      " 11  NumDealsPurchases     2205 non-null   int64  \n",
      " 12  NumWebPurchases       2205 non-null   int64  \n",
      " 13  NumCatalogPurchases   2205 non-null   int64  \n",
      " 14  NumStorePurchases     2205 non-null   int64  \n",
      " 15  NumWebVisitsMonth     2205 non-null   int64  \n",
      " 16  AcceptedCmp3          2205 non-null   int64  \n",
      " 17  AcceptedCmp4          2205 non-null   int64  \n",
      " 18  AcceptedCmp5          2205 non-null   int64  \n",
      " 19  AcceptedCmp1          2205 non-null   int64  \n",
      " 20  AcceptedCmp2          2205 non-null   int64  \n",
      " 21  Complain              2205 non-null   int64  \n",
      " 22  Z_CostContact         2205 non-null   int64  \n",
      " 23  Z_Revenue             2205 non-null   int64  \n",
      " 24  Response              2205 non-null   int64  \n",
      " 25  Age                   2205 non-null   int64  \n",
      " 26  Customer_Days         2205 non-null   int64  \n",
      " 27  marital_Divorced      230 non-null    float64\n",
      " 28  marital_Married       854 non-null    float64\n",
      " 29  marital_Single        477 non-null    float64\n",
      " 30  marital_Together      568 non-null    float64\n",
      " 31  marital_Widow         76 non-null     float64\n",
      " 32  education_2n Cycle    198 non-null    float64\n",
      " 33  education_Basic       54 non-null     float64\n",
      " 34  education_Graduation  1113 non-null   float64\n",
      " 35  education_Master      364 non-null    float64\n",
      " 36  education_PhD         476 non-null    float64\n",
      " 37  MntTotal              2205 non-null   int64  \n",
      " 38  MntRegularProds       2205 non-null   int64  \n",
      " 39  AcceptedCmpOverall    2205 non-null   int64  \n",
      " 40  marital_status        2205 non-null   object \n",
      " 41  education_level       2205 non-null   object \n",
      " 42  kids                  2205 non-null   int64  \n",
      " 43  expenses              2205 non-null   int64  \n",
      "dtypes: float64(11), int64(31), object(2)\n",
      "memory usage: 758.1+ KB\n"
     ]
    }
   ],
   "source": [
    "# dando uma olhada nas cateristicas baiscas das variáveis, tipo e quantidade de dados não nulos em cada coluna\n",
    "\n",
    "dados.info()"
   ]
  },
  {
   "cell_type": "markdown",
   "id": "18ea74e6",
   "metadata": {},
   "source": [
    "Essa primeira olhada nos dados nos ajuda a entender as informaçǒes disponiveis para trabalhar, como elas estão organizadas, com base nisso podemos traçar algumas estratégias de análise, tendo em vista o objetivo final. \n",
    "\n",
    "Os dados interessantes para traçar um perfil dos clientes são: age, recency, marital_status, 'Kids', education_level, income e expenses,  NumDealsPurchases, NumWebPurchases, NumCatalogPurchases, NumStorePurchases, NumWebVisitsMonth\n",
    "\n",
    "Escolhemos esses dados pois eles possibilitam combinar uma análise do perfil demográfico juntamente com o padrão de relacionamento com a plataforma. Podemos determinar qual tem sido o padrão de relacionamento de um determinado perfil demográfico. \n",
    "\n",
    "A seguir vamos filtrar a base de dados pelas variáveis de interesse e conhecê-las um pouco melhor."
   ]
  },
  {
   "cell_type": "code",
   "execution_count": 135,
   "id": "7a4b0d92",
   "metadata": {},
   "outputs": [
    {
     "data": {
      "text/plain": [
       "Age                    0\n",
       "kids                   0\n",
       "Recency                0\n",
       "marital_status         0\n",
       "education_level        0\n",
       "Income                 0\n",
       "expenses               0\n",
       "NumDealsPurchases      0\n",
       "NumWebPurchases        0\n",
       "NumCatalogPurchases    0\n",
       "NumStorePurchases      0\n",
       "NumWebVisitsMonth      0\n",
       "dtype: int64"
      ]
     },
     "execution_count": 135,
     "metadata": {},
     "output_type": "execute_result"
    }
   ],
   "source": [
    "# filtrando as variáveis de interesse\n",
    "\n",
    "variaveis_interesse = [\n",
    "    'Age', 'kids', 'Recency', 'marital_status', 'education_level', \n",
    "    'Income', 'expenses',  'NumDealsPurchases', 'NumWebPurchases', 'NumCatalogPurchases', \n",
    "    'NumStorePurchases', 'NumWebVisitsMonth'\n",
    "]\n",
    "\n",
    "dados_1 = dados[variaveis_interesse]\n",
    "\n",
    "# verificando quantidade de nulos nas variáveis de interesse\n",
    "\n",
    "dados_1.isnull().sum()"
   ]
  },
  {
   "cell_type": "code",
   "execution_count": 108,
   "id": "57f87019",
   "metadata": {},
   "outputs": [
    {
     "name": "stdout",
     "output_type": "stream",
     "text": [
      "Número de linhas duplicadas: 203\n"
     ]
    }
   ],
   "source": [
    "qtd_duplicadas = dados_1.duplicated().sum()\n",
    "\n",
    "print(f\"Número de linhas duplicadas: {qtd_duplicadas}\")"
   ]
  },
  {
   "cell_type": "code",
   "execution_count": null,
   "id": "360e3794",
   "metadata": {},
   "outputs": [],
   "source": [
    "# Verificando se há linhas duplicadas\n",
    "\n",
    "dados_1 = dados_1.drop_duplicates()"
   ]
  },
  {
   "cell_type": "code",
   "execution_count": null,
   "id": "33fbb25a",
   "metadata": {},
   "outputs": [],
   "source": [
    "# Ajustando os dados de renda para o formato mensal\n",
    "\n",
    "dados_1['renda_mensal'] = dados_1['Income'] / 12\n",
    "\n",
    "# Excluindo as linhas duplicadas: \n",
    "\n",
    "dados_1 = dados_1.drop('Income', axis=1)"
   ]
  },
  {
   "cell_type": "markdown",
   "id": "79e28f50",
   "metadata": {},
   "source": [
    "Até aqui vimos que as variáveis de interesse não possuem valores nulos, mas encontramos 203 linhas duplicadas que resolvemos excluir para não atrapalhar a análise. \n",
    "\n",
    "Abaixo rodamos um describe, para obter informações gerais e rápidas dos dados numéricos. Aqui podemos tomar notas de algumas informações importantes: \n",
    "\n",
    "1. A idade média dos clientes da base variam bastante, 24 a 80 anos. Mas a média é 50 e a mediana é 51 o que demonstra que a distribuição é relativamente simétrica em torno dessa faixa, isso sugere que o público predominante está entre meia-idade e terceira idade. \n",
    "2. Em média os clientes tem 1 filhos, no mínimo nenhum e no máximo 3 filhos\n",
    "3. A última compra tambêm varia bastante, entre 0 e 99 dias. Mas em média esses clientes estão há 49 dias sem comprar, com uma variação expressiva dessa média, já que o desvio padrão é 28 dias. \n",
    "4. A renda dos clientes é em media uns 4 mil reais podendo chegar a 9 mil\n",
    "5. Os gastos também variam bastante, mas em média um cliente terá gasto uns 500 reais na plataforma, podendo chegar até mais de 2 mil \n",
    "6. O número de compras na promoção não parece ser muito frequente já que em media um cliente comprou apenas 2 vezes um produto nessa circunstância\n",
    "7.  E para os demais, que mostram onde o cliente faz mais compras, se na web, no catalogo ou diretamente nas lojas, em média parece que diretamente na loja é uma preferência\n",
    "8. Quanto às visitas ao site, os numeros são baixos, mas o numero máximo deixa pistas de que há um perfil que visita mais o site, iremos descobrir qual \n",
    "\n",
    "Essa análise é boa para nos dizer aspectos gerais dos clientes, agora sabemos que parece um perfil mais velho, que gosta de comprar diretamente na loja, que tem uma renda abaixo de 5 mil reais, que demora para acessar a plataforma, não visita muito o site nem compra muito em promoções. Aqui ainda não analisamos nível educacional nem estado civil, essas variáveis junto com a renda e idade nos ajudarão a seguimentar melhor os perfis dos clientes e descobrir como cada perfil se relaciona com a plataforma. "
   ]
  },
  {
   "cell_type": "code",
   "execution_count": 136,
   "id": "e762381e",
   "metadata": {},
   "outputs": [
    {
     "data": {
      "text/html": [
       "<div>\n",
       "<style scoped>\n",
       "    .dataframe tbody tr th:only-of-type {\n",
       "        vertical-align: middle;\n",
       "    }\n",
       "\n",
       "    .dataframe tbody tr th {\n",
       "        vertical-align: top;\n",
       "    }\n",
       "\n",
       "    .dataframe thead th {\n",
       "        text-align: right;\n",
       "    }\n",
       "</style>\n",
       "<table border=\"1\" class=\"dataframe\">\n",
       "  <thead>\n",
       "    <tr style=\"text-align: right;\">\n",
       "      <th></th>\n",
       "      <th>Age</th>\n",
       "      <th>kids</th>\n",
       "      <th>Recency</th>\n",
       "      <th>Income</th>\n",
       "      <th>expenses</th>\n",
       "      <th>NumDealsPurchases</th>\n",
       "      <th>NumWebPurchases</th>\n",
       "      <th>NumCatalogPurchases</th>\n",
       "      <th>NumStorePurchases</th>\n",
       "      <th>NumWebVisitsMonth</th>\n",
       "    </tr>\n",
       "  </thead>\n",
       "  <tbody>\n",
       "    <tr>\n",
       "      <th>count</th>\n",
       "      <td>2205.0</td>\n",
       "      <td>2205.0</td>\n",
       "      <td>2205.0</td>\n",
       "      <td>2205.0</td>\n",
       "      <td>2205.0</td>\n",
       "      <td>2205.0</td>\n",
       "      <td>2205.0</td>\n",
       "      <td>2205.0</td>\n",
       "      <td>2205.0</td>\n",
       "      <td>2205.0</td>\n",
       "    </tr>\n",
       "    <tr>\n",
       "      <th>mean</th>\n",
       "      <td>51.0</td>\n",
       "      <td>1.0</td>\n",
       "      <td>49.0</td>\n",
       "      <td>51622.0</td>\n",
       "      <td>563.0</td>\n",
       "      <td>2.0</td>\n",
       "      <td>4.0</td>\n",
       "      <td>3.0</td>\n",
       "      <td>6.0</td>\n",
       "      <td>5.0</td>\n",
       "    </tr>\n",
       "    <tr>\n",
       "      <th>std</th>\n",
       "      <td>12.0</td>\n",
       "      <td>1.0</td>\n",
       "      <td>29.0</td>\n",
       "      <td>20713.0</td>\n",
       "      <td>576.0</td>\n",
       "      <td>2.0</td>\n",
       "      <td>3.0</td>\n",
       "      <td>3.0</td>\n",
       "      <td>3.0</td>\n",
       "      <td>2.0</td>\n",
       "    </tr>\n",
       "    <tr>\n",
       "      <th>min</th>\n",
       "      <td>24.0</td>\n",
       "      <td>0.0</td>\n",
       "      <td>0.0</td>\n",
       "      <td>1730.0</td>\n",
       "      <td>4.0</td>\n",
       "      <td>0.0</td>\n",
       "      <td>0.0</td>\n",
       "      <td>0.0</td>\n",
       "      <td>0.0</td>\n",
       "      <td>0.0</td>\n",
       "    </tr>\n",
       "    <tr>\n",
       "      <th>25%</th>\n",
       "      <td>43.0</td>\n",
       "      <td>0.0</td>\n",
       "      <td>24.0</td>\n",
       "      <td>35196.0</td>\n",
       "      <td>56.0</td>\n",
       "      <td>1.0</td>\n",
       "      <td>2.0</td>\n",
       "      <td>0.0</td>\n",
       "      <td>3.0</td>\n",
       "      <td>3.0</td>\n",
       "    </tr>\n",
       "    <tr>\n",
       "      <th>50%</th>\n",
       "      <td>50.0</td>\n",
       "      <td>1.0</td>\n",
       "      <td>49.0</td>\n",
       "      <td>51287.0</td>\n",
       "      <td>343.0</td>\n",
       "      <td>2.0</td>\n",
       "      <td>4.0</td>\n",
       "      <td>2.0</td>\n",
       "      <td>5.0</td>\n",
       "      <td>6.0</td>\n",
       "    </tr>\n",
       "    <tr>\n",
       "      <th>75%</th>\n",
       "      <td>61.0</td>\n",
       "      <td>1.0</td>\n",
       "      <td>74.0</td>\n",
       "      <td>68281.0</td>\n",
       "      <td>964.0</td>\n",
       "      <td>3.0</td>\n",
       "      <td>6.0</td>\n",
       "      <td>4.0</td>\n",
       "      <td>8.0</td>\n",
       "      <td>7.0</td>\n",
       "    </tr>\n",
       "    <tr>\n",
       "      <th>max</th>\n",
       "      <td>80.0</td>\n",
       "      <td>3.0</td>\n",
       "      <td>99.0</td>\n",
       "      <td>113734.0</td>\n",
       "      <td>2491.0</td>\n",
       "      <td>15.0</td>\n",
       "      <td>27.0</td>\n",
       "      <td>28.0</td>\n",
       "      <td>13.0</td>\n",
       "      <td>20.0</td>\n",
       "    </tr>\n",
       "  </tbody>\n",
       "</table>\n",
       "</div>"
      ],
      "text/plain": [
       "          Age    kids  Recency    Income  expenses  NumDealsPurchases  \\\n",
       "count  2205.0  2205.0   2205.0    2205.0    2205.0             2205.0   \n",
       "mean     51.0     1.0     49.0   51622.0     563.0                2.0   \n",
       "std      12.0     1.0     29.0   20713.0     576.0                2.0   \n",
       "min      24.0     0.0      0.0    1730.0       4.0                0.0   \n",
       "25%      43.0     0.0     24.0   35196.0      56.0                1.0   \n",
       "50%      50.0     1.0     49.0   51287.0     343.0                2.0   \n",
       "75%      61.0     1.0     74.0   68281.0     964.0                3.0   \n",
       "max      80.0     3.0     99.0  113734.0    2491.0               15.0   \n",
       "\n",
       "       NumWebPurchases  NumCatalogPurchases  NumStorePurchases  \\\n",
       "count           2205.0               2205.0             2205.0   \n",
       "mean               4.0                  3.0                6.0   \n",
       "std                3.0                  3.0                3.0   \n",
       "min                0.0                  0.0                0.0   \n",
       "25%                2.0                  0.0                3.0   \n",
       "50%                4.0                  2.0                5.0   \n",
       "75%                6.0                  4.0                8.0   \n",
       "max               27.0                 28.0               13.0   \n",
       "\n",
       "       NumWebVisitsMonth  \n",
       "count             2205.0  \n",
       "mean                 5.0  \n",
       "std                  2.0  \n",
       "min                  0.0  \n",
       "25%                  3.0  \n",
       "50%                  6.0  \n",
       "75%                  7.0  \n",
       "max                 20.0  "
      ]
     },
     "execution_count": 136,
     "metadata": {},
     "output_type": "execute_result"
    }
   ],
   "source": [
    "dados_1.describe().round()"
   ]
  },
  {
   "cell_type": "markdown",
   "id": "4b63424f",
   "metadata": {},
   "source": [
    "<font color = #99c9bd> **Entendendo Melhor o Perfil do Cliente**"
   ]
  },
  {
   "cell_type": "code",
   "execution_count": null,
   "id": "b047271c",
   "metadata": {},
   "outputs": [
    {
     "data": {
      "image/png": "[encoded data removed]",
      "text/plain": [
       "<Figure size 640x480 with 1 Axes>"
      ]
     },
     "metadata": {},
     "output_type": "display_data"
    }
   ],
   "source": [
    "# Qual é a distribuicao de salarios? \n",
    "\n",
    "# funcao para formatar em reais o dado de renda\n",
    "\n",
    "def formatar_em_reais(x, _):\n",
    "    return f'R$ {x:,.0f}'.replace(\",\", \"X\").replace(\".\", \",\").replace(\"X\", \".\")\n",
    "\n",
    "# Criando o histograma com Seaborn\n",
    "sn.histplot(dados['renda_mensal'], bins = 50, kde='TRUE', color= 'purple')\n",
    "\n",
    "# usando a funcao de formatar em reais no eixo x\n",
    "\n",
    "plt.gca().xaxis.set_major_formatter(FuncFormatter(formatar_em_reais))\n",
    "\n",
    "plt.title('Histograma da Renda Mensal')\n",
    "plt.xlabel('Valores')\n",
    "plt.ylabel('Frequência')\n",
    "\n",
    "# Exibindo o gráfico\n",
    "plt.tight_layout()\n",
    "plt.show()"
   ]
  },
  {
   "cell_type": "code",
   "execution_count": 138,
   "id": "fe648e40",
   "metadata": {},
   "outputs": [
    {
     "data": {
      "image/png": "[encoded data removed]",
      "text/plain": [
       "<Figure size 640x480 with 1 Axes>"
      ]
     },
     "metadata": {},
     "output_type": "display_data"
    }
   ],
   "source": [
    "# Qual é a distribuicao das idades? \n",
    "\n",
    "\n",
    "# Criando o histograma com Seaborn\n",
    "sn.histplot(dados['Age'], bins = 50, kde='TRUE', color= 'purple')\n",
    "\n",
    "plt.title('Histograma das Idades')\n",
    "plt.xlabel('Valores')\n",
    "plt.ylabel('Frequência')\n",
    "\n",
    "# Exibindo o gráfico\n",
    "plt.tight_layout()\n",
    "plt.show()\n"
   ]
  },
  {
   "cell_type": "code",
   "execution_count": 145,
   "id": "20b940d7",
   "metadata": {},
   "outputs": [
    {
     "data": {
      "image/png": "[encoded data removed]",
      "text/plain": [
       "<Figure size 640x480 with 1 Axes>"
      ]
     },
     "metadata": {},
     "output_type": "display_data"
    }
   ],
   "source": [
    "# Qual é a distribuicao dos dias sem acessar a plataforma? \n",
    "\n",
    "\n",
    "# Criando o histograma com Seaborn\n",
    "sn.histplot(dados['Recency'], bins = 100, kde='TRUE', color= 'purple')\n",
    "\n",
    "plt.title('Histograma dos Dias sem Acessar a Plataforma')\n",
    "plt.xlabel('Valores')\n",
    "plt.ylabel('Frequência')\n",
    "\n",
    "# Exibindo o gráfico\n",
    "plt.tight_layout()\n",
    "plt.show()"
   ]
  },
  {
   "cell_type": "code",
   "execution_count": 148,
   "id": "64f993aa",
   "metadata": {},
   "outputs": [
    {
     "data": {
      "image/png": "[encoded data removed]",
      "text/plain": [
       "<Figure size 640x480 with 1 Axes>"
      ]
     },
     "metadata": {},
     "output_type": "display_data"
    }
   ],
   "source": [
    "# Qual é a distribuicao dos gastos na plataforma? \n",
    "\n",
    "# funcao para formatar em reais o dado de gasto\n",
    "\n",
    "def formatar_em_reais(x, _):\n",
    "    return f'R$ {x:,.0f}'.replace(\",\", \"X\").replace(\".\", \",\").replace(\"X\", \".\")\n",
    "\n",
    "# Criando o histograma com Seaborn\n",
    "sn.histplot(dados['expenses'], bins = 50, kde='TRUE', color= 'purple')\n",
    "\n",
    "# usando a funcao de formatar em reais no eixo x\n",
    "\n",
    "plt.gca().xaxis.set_major_formatter(FuncFormatter(formatar_em_reais))\n",
    "\n",
    "plt.title('Histograma dos Gastos')\n",
    "plt.xlabel('Valores')\n",
    "plt.ylabel('Frequência')\n",
    "\n",
    "# Exibindo o gráfico\n",
    "plt.tight_layout()\n",
    "plt.show()"
   ]
  },
  {
   "cell_type": "code",
   "execution_count": null,
   "id": "95476b7f",
   "metadata": {},
   "outputs": [
    {
     "data": {
      "text/plain": [
       "array(['Graduation', 'PhD', 'Master', 'Basic', '2n Cycle'], dtype=object)"
      ]
     },
     "execution_count": 52,
     "metadata": {},
     "output_type": "execute_result"
    }
   ],
   "source": [
    "# Valores distintos da formaçao academica\n",
    "\n",
    "dados['education_level'].unique()"
   ]
  },
  {
   "cell_type": "code",
   "execution_count": 58,
   "id": "eb55ac91",
   "metadata": {},
   "outputs": [
    {
     "data": {
      "text/html": [
       "<div>\n",
       "<style scoped>\n",
       "    .dataframe tbody tr th:only-of-type {\n",
       "        vertical-align: middle;\n",
       "    }\n",
       "\n",
       "    .dataframe tbody tr th {\n",
       "        vertical-align: top;\n",
       "    }\n",
       "\n",
       "    .dataframe thead th {\n",
       "        text-align: right;\n",
       "    }\n",
       "</style>\n",
       "<table border=\"1\" class=\"dataframe\">\n",
       "  <thead>\n",
       "    <tr style=\"text-align: right;\">\n",
       "      <th></th>\n",
       "      <th>Quantidade</th>\n",
       "      <th>Percentual (%)</th>\n",
       "    </tr>\n",
       "    <tr>\n",
       "      <th>education_level</th>\n",
       "      <th></th>\n",
       "      <th></th>\n",
       "    </tr>\n",
       "  </thead>\n",
       "  <tbody>\n",
       "    <tr>\n",
       "      <th>Graduation</th>\n",
       "      <td>1113</td>\n",
       "      <td>50.48</td>\n",
       "    </tr>\n",
       "    <tr>\n",
       "      <th>PhD</th>\n",
       "      <td>476</td>\n",
       "      <td>21.59</td>\n",
       "    </tr>\n",
       "    <tr>\n",
       "      <th>Master</th>\n",
       "      <td>364</td>\n",
       "      <td>16.51</td>\n",
       "    </tr>\n",
       "    <tr>\n",
       "      <th>2n Cycle</th>\n",
       "      <td>198</td>\n",
       "      <td>8.98</td>\n",
       "    </tr>\n",
       "    <tr>\n",
       "      <th>Basic</th>\n",
       "      <td>54</td>\n",
       "      <td>2.45</td>\n",
       "    </tr>\n",
       "  </tbody>\n",
       "</table>\n",
       "</div>"
      ],
      "text/plain": [
       "                 Quantidade  Percentual (%)\n",
       "education_level                            \n",
       "Graduation             1113           50.48\n",
       "PhD                     476           21.59\n",
       "Master                  364           16.51\n",
       "2n Cycle                198            8.98\n",
       "Basic                    54            2.45"
      ]
     },
     "execution_count": 58,
     "metadata": {},
     "output_type": "execute_result"
    }
   ],
   "source": [
    "# Qual é o nivel educacional dos clientes? \n",
    "\n",
    "contagem = dados['education_level'].value_counts()\n",
    "\n",
    "percentual = dados['education_level'].value_counts(normalize=True)* 100\n",
    "\n",
    "pd.DataFrame({\n",
    "    'Quantidade': contagem,\n",
    "    'Percentual (%)': percentual.round(2)\n",
    "\n",
    "})"
   ]
  },
  {
   "cell_type": "code",
   "execution_count": 151,
   "id": "a1f5b2f6",
   "metadata": {},
   "outputs": [
    {
     "data": {
      "text/plain": [
       "array(['Single', 'Together', 'Married', 'Divorced', 'Widow'], dtype=object)"
      ]
     },
     "execution_count": 151,
     "metadata": {},
     "output_type": "execute_result"
    }
   ],
   "source": [
    "# Valores distintos do estado civil\n",
    "\n",
    "dados['marital_status'].unique()"
   ]
  },
  {
   "cell_type": "code",
   "execution_count": 60,
   "id": "cdcacc7f",
   "metadata": {},
   "outputs": [
    {
     "data": {
      "text/html": [
       "<div>\n",
       "<style scoped>\n",
       "    .dataframe tbody tr th:only-of-type {\n",
       "        vertical-align: middle;\n",
       "    }\n",
       "\n",
       "    .dataframe tbody tr th {\n",
       "        vertical-align: top;\n",
       "    }\n",
       "\n",
       "    .dataframe thead th {\n",
       "        text-align: right;\n",
       "    }\n",
       "</style>\n",
       "<table border=\"1\" class=\"dataframe\">\n",
       "  <thead>\n",
       "    <tr style=\"text-align: right;\">\n",
       "      <th></th>\n",
       "      <th>Quantidade</th>\n",
       "      <th>Percentual (%)</th>\n",
       "    </tr>\n",
       "    <tr>\n",
       "      <th>marital_status</th>\n",
       "      <th></th>\n",
       "      <th></th>\n",
       "    </tr>\n",
       "  </thead>\n",
       "  <tbody>\n",
       "    <tr>\n",
       "      <th>Married</th>\n",
       "      <td>854</td>\n",
       "      <td>38.73</td>\n",
       "    </tr>\n",
       "    <tr>\n",
       "      <th>Together</th>\n",
       "      <td>568</td>\n",
       "      <td>25.76</td>\n",
       "    </tr>\n",
       "    <tr>\n",
       "      <th>Single</th>\n",
       "      <td>477</td>\n",
       "      <td>21.63</td>\n",
       "    </tr>\n",
       "    <tr>\n",
       "      <th>Divorced</th>\n",
       "      <td>230</td>\n",
       "      <td>10.43</td>\n",
       "    </tr>\n",
       "    <tr>\n",
       "      <th>Widow</th>\n",
       "      <td>76</td>\n",
       "      <td>3.45</td>\n",
       "    </tr>\n",
       "  </tbody>\n",
       "</table>\n",
       "</div>"
      ],
      "text/plain": [
       "                Quantidade  Percentual (%)\n",
       "marital_status                            \n",
       "Married                854           38.73\n",
       "Together               568           25.76\n",
       "Single                 477           21.63\n",
       "Divorced               230           10.43\n",
       "Widow                   76            3.45"
      ]
     },
     "execution_count": 60,
     "metadata": {},
     "output_type": "execute_result"
    }
   ],
   "source": [
    "# Qual é o estado civil dos clientes? \n",
    "\n",
    "contagem = dados['marital_status'].value_counts()\n",
    "\n",
    "percentual = dados['marital_status'].value_counts(normalize=True)* 100\n",
    "\n",
    "pd.DataFrame({\n",
    "    'Quantidade': contagem,\n",
    "    'Percentual (%)': percentual.round(2)\n",
    "\n",
    "})"
   ]
  },
  {
   "cell_type": "markdown",
   "id": "715f3ed2",
   "metadata": {},
   "source": [
    "Nessa seção tentamos entender mais profundamente o perfil dos clientes da base de dados. Levando em conta os dados gerais levantados anteriormente, vamos aos insights que essa análise mais detalhada possibilitou: \n",
    "\n",
    "1. Idade: Tinhamos uma ideia de que a idade variava bastante (de 24 a 80 anos). Com o histograma essa variação ficou mais evidente, no entanto está ainda mais evidente que o publico da plataforma está bem concentrado entre as faixas 40 - 50 anos. \n",
    "2. "
   ]
  },
  {
   "cell_type": "markdown",
   "id": "4cb9fb7c",
   "metadata": {},
   "source": [
    "<font color = #99c9bd> **Impacto do Perfil no Gasto na Plataforma**"
   ]
  },
  {
   "cell_type": "code",
   "execution_count": 152,
   "id": "b1832473",
   "metadata": {},
   "outputs": [
    {
     "data": {
      "text/html": [
       "<div>\n",
       "<style scoped>\n",
       "    .dataframe tbody tr th:only-of-type {\n",
       "        vertical-align: middle;\n",
       "    }\n",
       "\n",
       "    .dataframe tbody tr th {\n",
       "        vertical-align: top;\n",
       "    }\n",
       "\n",
       "    .dataframe thead th {\n",
       "        text-align: right;\n",
       "    }\n",
       "</style>\n",
       "<table border=\"1\" class=\"dataframe\">\n",
       "  <thead>\n",
       "    <tr style=\"text-align: right;\">\n",
       "      <th></th>\n",
       "      <th>media</th>\n",
       "      <th>mediana</th>\n",
       "      <th>desvio_padrao</th>\n",
       "    </tr>\n",
       "    <tr>\n",
       "      <th>marital_status</th>\n",
       "      <th></th>\n",
       "      <th></th>\n",
       "      <th></th>\n",
       "    </tr>\n",
       "  </thead>\n",
       "  <tbody>\n",
       "    <tr>\n",
       "      <th>Divorced</th>\n",
       "      <td>1.01</td>\n",
       "      <td>1.0</td>\n",
       "      <td>0.74</td>\n",
       "    </tr>\n",
       "    <tr>\n",
       "      <th>Married</th>\n",
       "      <td>0.97</td>\n",
       "      <td>1.0</td>\n",
       "      <td>0.73</td>\n",
       "    </tr>\n",
       "    <tr>\n",
       "      <th>Single</th>\n",
       "      <td>0.86</td>\n",
       "      <td>1.0</td>\n",
       "      <td>0.78</td>\n",
       "    </tr>\n",
       "    <tr>\n",
       "      <th>Together</th>\n",
       "      <td>0.98</td>\n",
       "      <td>1.0</td>\n",
       "      <td>0.75</td>\n",
       "    </tr>\n",
       "    <tr>\n",
       "      <th>Widow</th>\n",
       "      <td>0.88</td>\n",
       "      <td>1.0</td>\n",
       "      <td>0.75</td>\n",
       "    </tr>\n",
       "  </tbody>\n",
       "</table>\n",
       "</div>"
      ],
      "text/plain": [
       "                media  mediana  desvio_padrao\n",
       "marital_status                               \n",
       "Divorced         1.01      1.0           0.74\n",
       "Married          0.97      1.0           0.73\n",
       "Single           0.86      1.0           0.78\n",
       "Together         0.98      1.0           0.75\n",
       "Widow            0.88      1.0           0.75"
      ]
     },
     "execution_count": 152,
     "metadata": {},
     "output_type": "execute_result"
    }
   ],
   "source": [
    "dados.groupby('marital_status')['kids'].agg(media= 'mean', mediana='median', desvio_padrao='std' ).round(2)"
   ]
  },
  {
   "cell_type": "code",
   "execution_count": 83,
   "id": "bcf5f255",
   "metadata": {},
   "outputs": [
    {
     "name": "stderr",
     "output_type": "stream",
     "text": [
      "/var/folders/x8/b89wn3vx0jd4cmv6h5_4cv6m0000gn/T/ipykernel_83269/3288484017.py:7: FutureWarning: \n",
      "\n",
      "Passing `palette` without assigning `hue` is deprecated and will be removed in v0.14.0. Assign the `x` variable to `hue` and set `legend=False` for the same effect.\n",
      "\n",
      "  sn.boxplot(x = 'tem_filhos', y = 'expenses', data = dados, linewidth=1, palette = colors)\n"
     ]
    },
    {
     "data": {
      "image/png": "[encoded data removed]",
      "text/plain": [
       "<Figure size 640x480 with 1 Axes>"
      ]
     },
     "metadata": {},
     "output_type": "display_data"
    }
   ],
   "source": [
    "# As pessoas gastam mais ou menos em nossa plataforma quando têm filhos?\n",
    "\n",
    "dados['tem_filhos'] = np.where(dados['kids'] == 0, 'não tem filhos', 'tem filhos')\n",
    "\n",
    "colors = \"#92d5c4\", \"#a1a4d7\"\n",
    "\n",
    "sn.boxplot(x = 'tem_filhos', y = 'expenses', data = dados, linewidth=1, palette = colors)\n",
    "plt.ylabel('')\n",
    "plt.xlabel('')\n",
    "plt.title('Boxplot - Gasto por Tipo de Cliente: com e sem filhos')\n",
    "\n",
    "plt.show()"
   ]
  },
  {
   "cell_type": "code",
   "execution_count": 90,
   "id": "9dc80bdc",
   "metadata": {},
   "outputs": [
    {
     "name": "stderr",
     "output_type": "stream",
     "text": [
      "/var/folders/x8/b89wn3vx0jd4cmv6h5_4cv6m0000gn/T/ipykernel_83269/2575319134.py:11: FutureWarning: \n",
      "\n",
      "Passing `palette` without assigning `hue` is deprecated and will be removed in v0.14.0. Assign the `x` variable to `hue` and set `legend=False` for the same effect.\n",
      "\n",
      "  sn.boxplot(x = 'faixa_salarial', y = 'expenses', data = dados, linewidth=1, palette = colors)\n"
     ]
    },
    {
     "data": {
      "image/png": "[encoded data removed]",
      "text/plain": [
       "<Figure size 640x480 with 1 Axes>"
      ]
     },
     "metadata": {},
     "output_type": "display_data"
    }
   ],
   "source": [
    "# Pessoas que têm um maior salário gastam mais?\n",
    "\n",
    "q3 = dados['renda_mensal'].quantile(0.75)\n",
    "\n",
    "dados['faixa_salarial'] = dados['renda_mensal'].apply(lambda x: 'salario alto' if x > q3 else 'salario baixo')\n",
    "\n",
    "dados['faixa_salarial'].value_counts()\n",
    "\n",
    "colors = \"#92d5c4\", \"#a1a4d7\"\n",
    "\n",
    "sn.boxplot(x = 'faixa_salarial', y = 'expenses', data = dados, linewidth=1, palette = colors)\n",
    "plt.ylabel('')\n",
    "plt.xlabel('')\n",
    "plt.title('Boxplot - Gasto por Tipo de Salário')\n",
    "\n",
    "plt.show()"
   ]
  },
  {
   "cell_type": "code",
   "execution_count": 91,
   "id": "d9d6233a",
   "metadata": {},
   "outputs": [
    {
     "data": {
      "text/html": [
       "<div>\n",
       "<style scoped>\n",
       "    .dataframe tbody tr th:only-of-type {\n",
       "        vertical-align: middle;\n",
       "    }\n",
       "\n",
       "    .dataframe tbody tr th {\n",
       "        vertical-align: top;\n",
       "    }\n",
       "\n",
       "    .dataframe thead th {\n",
       "        text-align: right;\n",
       "    }\n",
       "</style>\n",
       "<table border=\"1\" class=\"dataframe\">\n",
       "  <thead>\n",
       "    <tr style=\"text-align: right;\">\n",
       "      <th></th>\n",
       "      <th>media</th>\n",
       "      <th>mediana</th>\n",
       "      <th>desvio_padrao</th>\n",
       "    </tr>\n",
       "    <tr>\n",
       "      <th>faixa_salarial</th>\n",
       "      <th></th>\n",
       "      <th></th>\n",
       "      <th></th>\n",
       "    </tr>\n",
       "  </thead>\n",
       "  <tbody>\n",
       "    <tr>\n",
       "      <th>salario alto</th>\n",
       "      <td>1293.50</td>\n",
       "      <td>1279.0</td>\n",
       "      <td>437.41</td>\n",
       "    </tr>\n",
       "    <tr>\n",
       "      <th>salario baixo</th>\n",
       "      <td>319.33</td>\n",
       "      <td>144.5</td>\n",
       "      <td>375.93</td>\n",
       "    </tr>\n",
       "  </tbody>\n",
       "</table>\n",
       "</div>"
      ],
      "text/plain": [
       "                  media  mediana  desvio_padrao\n",
       "faixa_salarial                                 \n",
       "salario alto    1293.50   1279.0         437.41\n",
       "salario baixo    319.33    144.5         375.93"
      ]
     },
     "execution_count": 91,
     "metadata": {},
     "output_type": "execute_result"
    }
   ],
   "source": [
    "dados.groupby('faixa_salarial')['expenses'].agg(media= 'mean', mediana='median', desvio_padrao='std' ).round(2)"
   ]
  }
 ],
 "metadata": {
  "kernelspec": {
   "display_name": "venv",
   "language": "python",
   "name": "python3"
  },
  "language_info": {
   "codemirror_mode": {
    "name": "ipython",
    "version": 3
   },
   "file_extension": ".py",
   "mimetype": "text/x-python",
   "name": "python",
   "nbconvert_exporter": "python",
   "pygments_lexer": "ipython3",
   "version": "3.9.6"
  }
 },
 "nbformat": 4,
 "nbformat_minor": 5
}
