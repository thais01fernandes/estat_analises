{
 "cells": [
  {
   "cell_type": "markdown",
   "id": "a37ebc61",
   "metadata": {},
   "source": [
    "## <font color = #99c9bd> **Análise Exploratória - Taxa de Churn**"
   ]
  },
  {
   "cell_type": "markdown",
   "id": "af82e620",
   "metadata": {},
   "source": [
    "<font color = #99c9bd>  **Objetivos da Análise:** \n",
    "\n",
    "<font color = #c6a9ac> **Nos últimos meses, alguns colaboradores levantaram a hipótese de que a taxa de churn (cancelamento de assinaturas) da plataforma estaria aumentando. Para investigar essa possível tendência, foi disponibilizado um conjunto de bases de dados contendo informações sobre os assinantes e seus respectivos eventos dentro da plataforma. Os principais objetivos são: i. Validar a hipótese levantada sobre o aumento do churn;\n",
    "ii. Realizar uma análise exploratória para identificar padrões, comportamentos ou informações relevantes que possam apoiar a equipe de negócios e \n",
    "iii. Elaborar um relatório com os principais insights obtidos.**\n",
    "\n",
    "\n",
    "<font color = #99c9bd> **Índice:**\n",
    "\n",
    "\n",
    "<font color = #c6a9ac> **1. Características Gerais dos Dados**\n",
    "\n",
    "<font color = #c6a9ac> **2. A taxa de churn aumentou nos últimos meses? Em quais períodos ela foi mais crítica?**\n",
    "\n",
    "<font color = #c6a9ac> **3. Há diferença de churn entre planos mensais, trimestrais e anuais?**\n",
    "\n",
    "<font color = #c6a9ac> **4. O uso da plataforma é menor entre os clientes que cancelaram?**\n",
    "\n",
    "<font color = #c6a9ac> **5. Empresas com contador têm menor probabilidade de churn?**\n",
    "\n",
    "<font color = #c6a9ac> **6. Determinados setores ou portes de empresa apresentam maior rotatividade?**"
   ]
  },
  {
   "cell_type": "code",
   "execution_count": null,
   "id": "690dae54",
   "metadata": {},
   "outputs": [],
   "source": [
    "# Importando bibliotecas\n",
    "\n",
    "import pandas as pd\n",
    "import seaborn as sn\n",
    "import numpy as np\n",
    "import matplotlib.pyplot as plt\n",
    "from matplotlib.ticker import FuncFormatter\n"
   ]
  },
  {
   "cell_type": "code",
   "execution_count": null,
   "id": "5eb14e85",
   "metadata": {},
   "outputs": [],
   "source": [
    "\n",
    "dados = pd.read_csv(\"/Users/thaisfernandespereira/Documents/estat_analises/descritiva/dados/customer_churn_with_months.csv\")"
   ]
  },
  {
   "cell_type": "markdown",
   "id": "1625c50d",
   "metadata": {},
   "source": [
    "<font color = #99c9bd> **Dicionário de Variáveis**\n",
    "\n",
    "| Variável                                                        | Descrição                                                                                 |\n",
    "|------------------------------------------------------------------|-------------------------------------------------------------------------------------------|\n",
    "| **ID**                                                           | Identificador único para cada cliente.                                                   |\n",
    "| **Tipo de empresa**                                              | Categoria da empresa, como MEI, ME, EPP, etc.                                            |\n",
    "| **Fundação da empresa**                                          | Ano de fundação da empresa.                                                              |\n",
    "| **Possui mais de um sócio**                                      | Indica se a empresa possui mais de um sócio (Sim/Não).                                   |\n",
    "| **Funcionários**                                                 | Número de funcionários na empresa ou faixa categorizada.                                 |\n",
    "| **mes_churn**                                                  | Indica que mês houve o churn.                                                   |\n",
    "| **Meses de permanência**                                         | Quantidade de meses desde o início do contrato até maio de 2025.                         |\n",
    "| **Utiliza serviços financeiros**                                 | Indica se a empresa utiliza serviços financeiros (Sim/Não).                              |\n",
    "| **PossuiContador**                                               | Indica se a empresa possui contador (Sim/Não).                                           |\n",
    "| **Faz conciliação bancária**                                     | Indica se a empresa realiza conciliação bancária (manual ou automática).                 |\n",
    "| **Frequência: Módulo financeiro**                                | Frequência de utilização do módulo financeiro do sistema (ex: Pouco uso, Uso frequente). |\n",
    "| **Frequência: Emissão de nota fiscal**                           | Frequência de utilização da emissão de nota fiscal no sistema.                           |\n",
    "| **Frequência: Integração bancária**                              | Frequência de utilização da integração bancária no sistema.                              |\n",
    "| **Frequência: Módulo de vendas**                                 | Frequência de utilização do módulo de vendas no sistema.                                 |\n",
    "| **Frequência: Relatórios**                                       | Frequência de utilização de relatórios no sistema.                                       |\n",
    "| **Frequência: APIs de integração**                               | Frequência de utilização de APIs de integração no sistema.                               |\n",
    "| **Contrato**                                                     | Tipo de contrato com o cliente (ex: Mês-a-mês, Trimestral, Anual).                       |\n",
    "| **Emite boletos**                                                | Indica se a empresa emite boletos (Sim/Não ou 1/0).                                       |\n",
    "| **Tipo de pagamento**                                            | Método de pagamento utilizado pelo cliente.                                              |\n",
    "| **Receita mensal**                                               | Receita mensal gerada pelo cliente.                                                      |\n",
    "| **Receita total**                                                | Receita total acumulada pelo cliente ao longo da permanência.                            |\n",
    "| **Churn**                                                        | Indica se houve churn (cancelamento) do cliente (Sim/Não).                               |\n"
   ]
  }
 ],
 "metadata": {
  "kernelspec": {
   "display_name": "venv",
   "language": "python",
   "name": "python3"
  },
  "language_info": {
   "codemirror_mode": {
    "name": "ipython",
    "version": 3
   },
   "file_extension": ".py",
   "mimetype": "text/x-python",
   "name": "python",
   "nbconvert_exporter": "python",
   "pygments_lexer": "ipython3",
   "version": "3.9.6"
  }
 },
 "nbformat": 4,
 "nbformat_minor": 5
}
